{
 "cells": [
  {
   "cell_type": "code",
   "execution_count": 7,
   "id": "726750aa",
   "metadata": {},
   "outputs": [
    {
     "name": "stdout",
     "output_type": "stream",
     "text": [
      "Enter length of Rectangle1: 2\n",
      "Enter breadth of Rectangle1:3\n",
      "Enter length of Rectangle2:4\n",
      "Enter breadth of Rectangle2:2\n",
      "area of first rectangle: 6\n",
      "area of second rectangle 8\n",
      "perimeter of first rectangle 10\n",
      "perimeter of second rectangle 8\n",
      "Rectagle 2 is greater\n"
     ]
    }
   ],
   "source": [
    "#ceate Rectangle class with attributes length\n",
    "#nd breadth and methods to find area and\n",
    "#rimeter. Compare two Rectangle objects by\n",
    "#heir area.\n",
    "class rectangle():\n",
    "    def get(self,l,b):\n",
    "        self.l=l\n",
    "        self.b=b\n",
    "    def area(self,l,b):\n",
    "        return l*b\n",
    "    def perimeter(self,l,b):\n",
    "        return 2*(l+b)\n",
    "\n",
    "r1=rectangle()\n",
    "r2=rectangle()\n",
    "l1=int(input(\"Enter length of Rectangle1: \"))\n",
    "b1=int(input(\"Enter breadth of Rectangle1:\"))\n",
    "l2=int(input(\"Enter length of Rectangle2:\"))\n",
    "b2=int(input(\"Enter breadth of Rectangle2:\"))\n",
    "\n",
    "p=r1.area(l1,b1)\n",
    "q=r2.area(l2,b2)\n",
    "r=r1.perimeter(l1,b1)\n",
    "s=r2.perimeter(l1,b2)\n",
    "print(\"area of first rectangle:\",p)\n",
    "print(\"area of second rectangle\",q)\n",
    "print(\"perimeter of first rectangle\",r)\n",
    "print(\"perimeter of second rectangle\",s)\n",
    "\n",
    "if(p>q):\n",
    "    print(\"Rectangle 1 is greater\")\n",
    "elif(p<q):\n",
    "    print(\"Rectagle 2 is greater\")\n",
    "else:\n",
    "    print(\"Rectangles are equal\")\n",
    "    "
   ]
  },
  {
   "cell_type": "code",
   "execution_count": null,
   "id": "17d0a08e",
   "metadata": {},
   "outputs": [],
   "source": []
  }
 ],
 "metadata": {
  "kernelspec": {
   "display_name": "Python 3 (ipykernel)",
   "language": "python",
   "name": "python3"
  },
  "language_info": {
   "codemirror_mode": {
    "name": "ipython",
    "version": 3
   },
   "file_extension": ".py",
   "mimetype": "text/x-python",
   "name": "python",
   "nbconvert_exporter": "python",
   "pygments_lexer": "ipython3",
   "version": "3.10.6"
  }
 },
 "nbformat": 4,
 "nbformat_minor": 5
}
