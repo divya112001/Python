{
 "cells": [
  {
   "cell_type": "code",
   "execution_count": 1,
   "id": "f26fb47b",
   "metadata": {},
   "outputs": [
    {
     "name": "stdout",
     "output_type": "stream",
     "text": [
      "Enter the string :w3schools\n",
      "letters 8\n",
      "digits 1\n"
     ]
    }
   ],
   "source": [
    "#letters and digits \n",
    "n=input(\"Enter the string :\")\n",
    "a=b=0\n",
    "for d in n:\n",
    "    if d.isdigit():\n",
    "        a=a+1\n",
    "    elif d.isalpha():\n",
    "        b=b+1\n",
    "    else:\n",
    "        pass\n",
    "print(\"letters\",b)\n",
    "print(\"digits\",a)"
   ]
  },
  {
   "cell_type": "code",
   "execution_count": null,
   "id": "409719e3",
   "metadata": {},
   "outputs": [],
   "source": []
  }
 ],
 "metadata": {
  "kernelspec": {
   "display_name": "Python 3 (ipykernel)",
   "language": "python",
   "name": "python3"
  },
  "language_info": {
   "codemirror_mode": {
    "name": "ipython",
    "version": 3
   },
   "file_extension": ".py",
   "mimetype": "text/x-python",
   "name": "python",
   "nbconvert_exporter": "python",
   "pygments_lexer": "ipython3",
   "version": "3.10.6"
  }
 },
 "nbformat": 4,
 "nbformat_minor": 5
}
