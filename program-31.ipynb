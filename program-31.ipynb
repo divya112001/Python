{
 "cells": [
  {
   "cell_type": "code",
   "execution_count": 11,
   "id": "ef6bf968",
   "metadata": {},
   "outputs": [
    {
     "name": "stdout",
     "output_type": "stream",
     "text": [
      "enter a number :2345\n",
      "The number of digit is : 4\n"
     ]
    }
   ],
   "source": [
    "n=int(input(\"enter a number :\"))\n",
    "c=0\n",
    "while(n>0):\n",
    "    p=n%10\n",
    "    c=c+1\n",
    "    n=n//10\n",
    "print(\"The number of digit is :\",c)"
   ]
  },
  {
   "cell_type": "markdown",
   "id": "e5d569d3",
   "metadata": {},
   "source": []
  }
 ],
 "metadata": {
  "kernelspec": {
   "display_name": "Python 3 (ipykernel)",
   "language": "python",
   "name": "python3"
  },
  "language_info": {
   "codemirror_mode": {
    "name": "ipython",
    "version": 3
   },
   "file_extension": ".py",
   "mimetype": "text/x-python",
   "name": "python",
   "nbconvert_exporter": "python",
   "pygments_lexer": "ipython3",
   "version": "3.10.6"
  }
 },
 "nbformat": 4,
 "nbformat_minor": 5
}
