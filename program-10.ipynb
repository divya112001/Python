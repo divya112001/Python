{
 "cells": [
  {
   "cell_type": "code",
   "execution_count": null,
   "id": "276309bd",
   "metadata": {},
   "outputs": [],
   "source": [
    "# biggest of 3 numbers\n",
    "a=int(input(\"enter the first number \"))\n",
    "b=int(input(\"enter the second number \"))\n",
    "c=int(input(\"enter the third number \"))\n",
    "d=max(a,b,c)\n",
    "print(\"the biggest of 3 number is:\",d)\n"
   ]
  }
 ],
 "metadata": {
  "kernelspec": {
   "display_name": "Python 3 (ipykernel)",
   "language": "python",
   "name": "python3"
  },
  "language_info": {
   "codemirror_mode": {
    "name": "ipython",
    "version": 3
   },
   "file_extension": ".py",
   "mimetype": "text/x-python",
   "name": "python",
   "nbconvert_exporter": "python",
   "pygments_lexer": "ipython3",
   "version": "3.10.6"
  }
 },
 "nbformat": 4,
 "nbformat_minor": 5
}
