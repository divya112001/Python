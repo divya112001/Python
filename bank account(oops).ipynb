{
 "cells": [
  {
   "cell_type": "code",
   "execution_count": 15,
   "id": "e51193b8",
   "metadata": {},
   "outputs": [
    {
     "name": "stdout",
     "output_type": "stream",
     "text": [
      "Enter name: ammu\n",
      "Enter account number: 123\n",
      "Enter account type: savings\n",
      "Enter initial balance: 2300\n",
      "1. Deposit 2. Withdraw 3. Account info 4.Exit\n",
      " Choose your option: 1\n",
      "Deposit amount: 39000\n",
      "Initial balance:  2300\n",
      "39000 is deposited\n",
      "current balance:  41300\n",
      "1. Deposit 2. Withdraw 3. Account info 4.Exit\n",
      " Choose your option: 2\n",
      "Withdraw amount: 450\n",
      "Initial balance:  41300\n",
      "450  is withdrawed\n",
      "Current balance:  40850\n",
      "1. Deposit 2. Withdraw 3. Account info 4.Exit\n",
      " Choose your option: 3\n",
      "Account holder Name:  ammu\n",
      "You don't have enough balance to withdraw !!\n",
      "Account Number:  123\n",
      "Account Type:  savings\n",
      "Account Balance:  40850\n",
      "1. Deposit 2. Withdraw 3. Account info 4.Exit\n",
      " Choose your option: 4\n",
      "Exiting...\n"
     ]
    }
   ],
   "source": [
    "#Create a Bank account with members\n",
    "#account_no, name,, type and balance. Write\n",
    "#constructor and methods to deposit at bank and\n",
    "#withdraw an amount from bank.\n",
    "\n",
    "class bankaccount:\n",
    "    def __init__(self,a_name, a_no,a_type,a_balance):\n",
    "        self.acc_name=a_name\n",
    "        self.acc_no=a_no\n",
    "        self.acc_type=a_type\n",
    "        self.acc_balance=a_balance\n",
    "    def deposit(self,a_deposit):\n",
    "        print(\"Initial balance: \",self.acc_balance)\n",
    "        self.acc_balance+=a_deposit\n",
    "        print(a_deposit, \"is deposited\")\n",
    "        print(\"current balance: \",self.acc_balance)\n",
    "    \n",
    "    def withdraw(self):\n",
    "        self.amount=int(input(\"Withdraw amount: \"))\n",
    "        print(\"Initial balance: \",self.acc_balance)\n",
    "        if self.amount > self.acc_balance:\n",
    "            print(\"You don't have enough balance to withdraw !!\")\n",
    "            print(\"Current balance: \",self.acc_balance)\n",
    "        else:\n",
    "            print(self.amount,\" is withdrawed\")\n",
    "            self.acc_balance-=self.amount\n",
    "            print(\"Current balance: \",self.acc_balance)\n",
    "\n",
    "    def acc_info(self):\n",
    "        print(\"Account holder Name: \", self.acc_name)\n",
    "        print(\"You don't have enough balance to withdraw !!\")\n",
    "        print(\"Account Number: \", self.acc_no)\n",
    "        print(\"Account Type: \", self.acc_type)\n",
    "        print(\"Account Balance: \", self.acc_balance)\n",
    "name=input(\"Enter name: \")\n",
    "no=int(input(\"Enter account number: \"))\n",
    "type=input(\"Enter account type: \")\n",
    "bal=int(input(\"Enter initial balance: \"))\n",
    "holder=bankaccount(name,no,type,bal)\n",
    "\n",
    "while(True):\n",
    "        ch=int(input(\"1. Deposit 2. Withdraw 3. Account info 4.Exit\\n Choose your option: \"))\n",
    "        if ch==1:\n",
    "            amount=int(input(\"Deposit amount: \"))\n",
    "            holder.deposit(amount)\n",
    "        elif ch==2:\n",
    "            holder.withdraw()\n",
    "    \n",
    "        elif ch==3:\n",
    "            holder.acc_info()\n",
    "        else:\n",
    "            print(\"Exiting...\")\n",
    "            break"
   ]
  },
  {
   "cell_type": "code",
   "execution_count": null,
   "id": "7fda53b9",
   "metadata": {},
   "outputs": [],
   "source": []
  }
 ],
 "metadata": {
  "kernelspec": {
   "display_name": "Python 3 (ipykernel)",
   "language": "python",
   "name": "python3"
  },
  "language_info": {
   "codemirror_mode": {
    "name": "ipython",
    "version": 3
   },
   "file_extension": ".py",
   "mimetype": "text/x-python",
   "name": "python",
   "nbconvert_exporter": "python",
   "pygments_lexer": "ipython3",
   "version": "3.10.6"
  }
 },
 "nbformat": 4,
 "nbformat_minor": 5
}
