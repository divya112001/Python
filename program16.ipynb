{
 "cells": [
  {
   "cell_type": "code",
   "execution_count": 8,
   "metadata": {},
   "outputs": [
    {
     "name": "stdout",
     "output_type": "stream",
     "text": [
      "enter colours   with comma seperated :yellow,black,green,purple\n",
      "colours are:  ['yellow', 'black', 'green', 'purple']\n",
      "first color is :  yellow\n",
      "last colour is:  purple\n"
     ]
    }
   ],
   "source": [
    "b=input(\"enter colours   with comma seperated :\")\n",
    "a=b.split(\",\")\n",
    "print(\"colours are: \",a)\n",
    "print(\"first color is : \",a[0])\n",
    "print(\"last colour is: \",a[-1])"
   ]
  },
  {
   "cell_type": "code",
   "execution_count": null,
   "metadata": {
    "collapsed": true
   },
   "outputs": [],
   "source": []
  }
 ],
 "metadata": {
  "kernelspec": {
   "display_name": "Python 3",
   "language": "python",
   "name": "python3"
  },
  "language_info": {
   "codemirror_mode": {
    "name": "ipython",
    "version": 3
   },
   "file_extension": ".py",
   "mimetype": "text/x-python",
   "name": "python",
   "nbconvert_exporter": "python",
   "pygments_lexer": "ipython3",
   "version": "3.6.3"
  }
 },
 "nbformat": 4,
 "nbformat_minor": 2
}
