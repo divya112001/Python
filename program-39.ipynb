{
 "cells": [
  {
   "cell_type": "code",
   "execution_count": 16,
   "id": "f6258186",
   "metadata": {},
   "outputs": [
    {
     "name": "stdout",
     "output_type": "stream",
     "text": [
      "enter a string :kmctcollegemca\n",
      "k is repeated 1 times\n",
      "m is repeated 2 times\n",
      "c is repeated 3 times\n",
      "t is repeated 1 times\n",
      "o is repeated 1 times\n",
      "l is repeated 2 times\n",
      "e is repeated 2 times\n",
      "g is repeated 1 times\n",
      "a is repeated 1 times\n"
     ]
    }
   ],
   "source": [
    "#frequency of characters in a given string\n",
    "s=input(\"enter a string :\")\n",
    "frq={}\n",
    "for i in s:\n",
    "    if i in frq:\n",
    "        frq[i]=frq[i]+1\n",
    "    else:\n",
    "        frq[i]=1\n",
    "for keys,value in frq.items():\n",
    "     print(keys,'is repeated',value,'times')\n",
    "    \n",
    "    "
   ]
  },
  {
   "cell_type": "code",
   "execution_count": null,
   "id": "766890cc",
   "metadata": {},
   "outputs": [],
   "source": []
  },
  {
   "cell_type": "code",
   "execution_count": null,
   "id": "1e0a3578",
   "metadata": {},
   "outputs": [],
   "source": []
  },
  {
   "cell_type": "code",
   "execution_count": null,
   "id": "4958c0bf",
   "metadata": {},
   "outputs": [],
   "source": []
  },
  {
   "cell_type": "code",
   "execution_count": null,
   "id": "f6549113",
   "metadata": {},
   "outputs": [],
   "source": []
  }
 ],
 "metadata": {
  "kernelspec": {
   "display_name": "Python 3 (ipykernel)",
   "language": "python",
   "name": "python3"
  },
  "language_info": {
   "codemirror_mode": {
    "name": "ipython",
    "version": 3
   },
   "file_extension": ".py",
   "mimetype": "text/x-python",
   "name": "python",
   "nbconvert_exporter": "python",
   "pygments_lexer": "ipython3",
   "version": "3.10.6"
  }
 },
 "nbformat": 4,
 "nbformat_minor": 5
}
