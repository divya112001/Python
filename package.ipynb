{
 "cells": [
  {
   "cell_type": "code",
   "execution_count": 5,
   "id": "112b3f54",
   "metadata": {},
   "outputs": [
    {
     "ename": "SyntaxError",
     "evalue": "invalid decimal literal (sphere1.py, line 3)",
     "output_type": "error",
     "traceback": [
      "Traceback \u001b[0;36m(most recent call last)\u001b[0m:\n",
      "  File \u001b[1;32m\"/usr/lib/python3/dist-packages/IPython/core/interactiveshell.py\"\u001b[0m, line \u001b[1;32m3457\u001b[0m, in \u001b[1;35mrun_code\u001b[0m\n    exec(code_obj, self.user_global_ns, self.user_ns)\n",
      "\u001b[0;36m  File \u001b[0;32m\"/tmp/ipykernel_5810/3798964819.py\"\u001b[0;36m, line \u001b[0;32m5\u001b[0;36m, in \u001b[0;35m<module>\u001b[0;36m\u001b[0m\n\u001b[0;31m    from graphics1.graphics3d1 import sphere1\u001b[0m\n",
      "\u001b[0;36m  File \u001b[0;32m\"/home/ksb/divya/python/graphics1/graphics3d1/sphere1.py\"\u001b[0;36m, line \u001b[0;32m3\u001b[0m\n\u001b[0;31m    print(\"Area of sphere: \",2*3.14r*r)\u001b[0m\n\u001b[0m                                  ^\u001b[0m\n\u001b[0;31mSyntaxError\u001b[0m\u001b[0;31m:\u001b[0m invalid decimal literal\n"
     ]
    }
   ],
   "source": [
    "#main program package\n",
    "from graphics1 import rectangle\n",
    "from graphics1 import circle\n",
    "from graphics1.graphics3d1 import cuboid\n",
    "from graphics1.graphics3d1 import sphere1\n",
    "\n",
    "while(1):\n",
    "    print(\"1. Rectangle\\n2. Circle\\n3. Cuboid\\n 4. Sphere\\n 5. Exit\")\n",
    "    ch=int(input(\"Enter your choice: \"))\n",
    "    if ch==1:\n",
    "        l=int(input(\"Enter length: \"))\n",
    "        b=int(input(\"Enter breadth: \"))\n",
    "        rectangle.rectare(l,b)\n",
    "        rectangle.rectperi(l,b)\n",
    "    elif ch==2:\n",
    "            r=int(input(\"Enter radius: \"))\n",
    "            circle.circleare(r)\n",
    "            circle.circleperi(r)\n",
    "    elif ch==3:\n",
    "            l = int(input(\"Enter length: \"))\n",
    "            b = int(input(\"Enter breadth: \"))\n",
    "            h= int(input(\"Enter height: \"))\n",
    "            cuboid.cuboidarea(l,b,h)\n",
    "            cuboid.cuboidperi(l,b,h)\n",
    "    elif ch==4:\n",
    "            r=int(input(\"Enter radius: \"))\n",
    "            sphere1.spherearea(r)\n",
    "            sphere1.sphereperi(r)\n",
    "    else:\n",
    "            print(\"Exiting...\")\n",
    "            break"
   ]
  },
  {
   "cell_type": "code",
   "execution_count": null,
   "id": "558ace19",
   "metadata": {},
   "outputs": [],
   "source": []
  },
  {
   "cell_type": "code",
   "execution_count": null,
   "id": "b374fe58",
   "metadata": {},
   "outputs": [],
   "source": []
  }
 ],
 "metadata": {
  "kernelspec": {
   "display_name": "Python 3 (ipykernel)",
   "language": "python",
   "name": "python3"
  },
  "language_info": {
   "codemirror_mode": {
    "name": "ipython",
    "version": 3
   },
   "file_extension": ".py",
   "mimetype": "text/x-python",
   "name": "python",
   "nbconvert_exporter": "python",
   "pygments_lexer": "ipython3",
   "version": "3.10.6"
  }
 },
 "nbformat": 4,
 "nbformat_minor": 5
}
