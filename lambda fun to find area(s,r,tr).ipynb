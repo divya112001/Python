{
 "cells": [
  {
   "cell_type": "code",
   "execution_count": null,
   "id": "63841a95",
   "metadata": {},
   "outputs": [
    {
     "name": "stdout",
     "output_type": "stream",
     "text": [
      "1.Square\n",
      "2. Rectangle\n",
      "3.Triangle\n",
      "4.Exit\n",
      "Enter your choice: 1\n",
      "Enter side: 2\n",
      "Area of square:  4\n",
      "1.Square\n",
      "2. Rectangle\n",
      "3.Triangle\n",
      "4.Exit\n"
     ]
    }
   ],
   "source": [
    "#Write lambda functions to find area of square,rectangle and triangle.\n",
    "sqr=lambda a:a*a\n",
    "rect=lambda l,b:l*b\n",
    "tri=lambda b,h: (b*h)/2\n",
    "while(1):\n",
    "    print(\"1.Square\\n2. Rectangle\\n3.Triangle\\n4.Exit\")\n",
    "    ch=int(input(\"Enter your choice: \"))\n",
    "    if (ch==1):\n",
    "        a=int(input(\"Enter side: \"))\n",
    "        print(\"Area of square: \",sqr(a))\n",
    "\n",
    "    elif (ch==2):\n",
    "        l = int(input(\"Enter length: \"))\n",
    "        b = int(input(\"Enter breadth: \"))\n",
    "        print(\"Area of Rectangle: \",rect(l,b))\n",
    "    elif (ch==3):\n",
    "        b = int(input(\"Enter breadth: \"))\n",
    "        l = int(input(\"Enter height: \"))\n",
    "        print(\"Area of Triangle: \",tri(b,h))\n",
    "    else:\n",
    "        print(\"Exiting...\")\n",
    "        break\n"
   ]
  },
  {
   "cell_type": "code",
   "execution_count": null,
   "id": "c752d04c",
   "metadata": {},
   "outputs": [],
   "source": []
  },
  {
   "cell_type": "code",
   "execution_count": null,
   "id": "9e060821",
   "metadata": {},
   "outputs": [],
   "source": []
  }
 ],
 "metadata": {
  "kernelspec": {
   "display_name": "Python 3 (ipykernel)",
   "language": "python",
   "name": "python3"
  },
  "language_info": {
   "codemirror_mode": {
    "name": "ipython",
    "version": 3
   },
   "file_extension": ".py",
   "mimetype": "text/x-python",
   "name": "python",
   "nbconvert_exporter": "python",
   "pygments_lexer": "ipython3",
   "version": "3.10.6"
  }
 },
 "nbformat": 4,
 "nbformat_minor": 5
}
