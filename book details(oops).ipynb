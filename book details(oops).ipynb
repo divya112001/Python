{
 "cells": [
  {
   "cell_type": "code",
   "execution_count": 6,
   "id": "ea76ea94",
   "metadata": {},
   "outputs": [
    {
     "name": "stdout",
     "output_type": "stream",
     "text": [
      "Enter publisher name: divya\n",
      "Enter book name: ramayanam\n",
      "Enter author name: vathmiki\n",
      "Enter rate of book: 2000\n",
      "Enter no. of pages: 25000\n",
      "Book details \n",
      " Publisher name= divya\n",
      "Title= ramayanam\n",
      "Author vathmiki\n",
      "Rate= 2000\n",
      "No. of pages= 25000\n"
     ]
    }
   ],
   "source": [
    "#book\n",
    "class publisher:\n",
    "    def __init__(self,pname):\n",
    "        self.pubname=pname\n",
    "    def display1(self):\n",
    "        print(\"Book details \\n Publisher name=\",self.pubname)\n",
    "class book(publisher):\n",
    "    def __init__(self,pname,bname,author):\n",
    "        self.title=bname\n",
    "        self.auth=author\n",
    "        publisher.__init__(self,pname)\n",
    "    def display2(self):\n",
    "        print(\"Title=\",self.title)\n",
    "        print(\"Author\",self.auth)\n",
    "class python(book):\n",
    "    def __init__(self,pname,title,au,price,np):\n",
    "        self.rate=price\n",
    "        self.nop=np\n",
    "        book.__init__(self,pname,title,au)\n",
    "    def display3(self):\n",
    "        print(\"Rate=\",self.rate)\n",
    "        print(\"No. of pages=\", self.nop)\n",
    "p=input(\"Enter publisher name: \")\n",
    "b=input(\"Enter book name: \")\n",
    "a=input(\"Enter author name: \")\n",
    "r=int(input(\"Enter rate of book: \"))\n",
    "n=int(input(\"Enter no. of pages: \"))\n",
    "a=python(p,b,a,r,n)\n",
    "a.display1()\n",
    "a.display2()\n",
    "a.display3()"
   ]
  },
  {
   "cell_type": "code",
   "execution_count": null,
   "id": "dba814ca",
   "metadata": {},
   "outputs": [],
   "source": []
  },
  {
   "cell_type": "code",
   "execution_count": null,
   "id": "872436e0",
   "metadata": {},
   "outputs": [],
   "source": []
  }
 ],
 "metadata": {
  "kernelspec": {
   "display_name": "Python 3 (ipykernel)",
   "language": "python",
   "name": "python3"
  },
  "language_info": {
   "codemirror_mode": {
    "name": "ipython",
    "version": 3
   },
   "file_extension": ".py",
   "mimetype": "text/x-python",
   "name": "python",
   "nbconvert_exporter": "python",
   "pygments_lexer": "ipython3",
   "version": "3.10.6"
  }
 },
 "nbformat": 4,
 "nbformat_minor": 5
}
