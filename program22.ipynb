{
 "cells": [
  {
   "cell_type": "code",
   "execution_count": 5,
   "metadata": {},
   "outputs": [
    {
     "name": "stdout",
     "output_type": "stream",
     "text": [
      "Enter the number of classes held:50\n",
      "Enter the number of classes attend:40\n",
      "80 is the percentage of the attendence\n",
      "allowed to sit\n"
     ]
    }
   ],
   "source": [
    "a=float(input(\"Enter the number of classes held:\"))\n",
    "b=float(input(\"Enter the number of classes attend:\"))\n",
    "p=b/a*100\n",
    "print(\"%d is the percentage of the attendence\"%p)\n",
    "if(p>=75):\n",
    "    print(\"allowed to sit\")\n",
    "else:\n",
    "    print(\"not allowed to sit\")"
   ]
  },
  {
   "cell_type": "code",
   "execution_count": null,
   "metadata": {
    "collapsed": true
   },
   "outputs": [],
   "source": []
  },
  {
   "cell_type": "code",
   "execution_count": null,
   "metadata": {
    "collapsed": true
   },
   "outputs": [],
   "source": []
  }
 ],
 "metadata": {
  "kernelspec": {
   "display_name": "Python 3",
   "language": "python",
   "name": "python3"
  },
  "language_info": {
   "codemirror_mode": {
    "name": "ipython",
    "version": 3
   },
   "file_extension": ".py",
   "mimetype": "text/x-python",
   "name": "python",
   "nbconvert_exporter": "python",
   "pygments_lexer": "ipython3",
   "version": "3.6.3"
  }
 },
 "nbformat": 4,
 "nbformat_minor": 2
}
