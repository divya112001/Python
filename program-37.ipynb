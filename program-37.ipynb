{
 "cells": [
  {
   "cell_type": "code",
   "execution_count": 1,
   "id": "e9605919",
   "metadata": {},
   "outputs": [
    {
     "name": "stdout",
     "output_type": "stream",
     "text": [
      "How many numbers :3\n",
      "Enter the number :5\n",
      "Enter the number :5\n",
      "Enter the number :5\n",
      "Sum of the numbers in the list is : 15\n"
     ]
    }
   ],
   "source": [
    "#sum of all items in a list\n",
    "list=[]\n",
    "num=int(input(\"How many numbers :\"))\n",
    "for i in range(num):\n",
    "    a=int(input(\"Enter the number :\"))\n",
    "    list.append(a)\n",
    "print(\"Sum of the numbers in the list is :\",sum(list))\n"
   ]
  },
  {
   "cell_type": "code",
   "execution_count": null,
   "id": "6733bb71",
   "metadata": {},
   "outputs": [],
   "source": []
  }
 ],
 "metadata": {
  "kernelspec": {
   "display_name": "Python 3 (ipykernel)",
   "language": "python",
   "name": "python3"
  },
  "language_info": {
   "codemirror_mode": {
    "name": "ipython",
    "version": 3
   },
   "file_extension": ".py",
   "mimetype": "text/x-python",
   "name": "python",
   "nbconvert_exporter": "python",
   "pygments_lexer": "ipython3",
   "version": "3.10.6"
  }
 },
 "nbformat": 4,
 "nbformat_minor": 5
}
