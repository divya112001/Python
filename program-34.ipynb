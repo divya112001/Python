{
 "cells": [
  {
   "cell_type": "code",
   "execution_count": 5,
   "id": "ea64c722",
   "metadata": {},
   "outputs": [
    {
     "name": "stdout",
     "output_type": "stream",
     "text": [
      " Enter the number : 13\n",
      " Enter the numer : 3\n",
      " GCD of 13 and 3 is 1\n"
     ]
    }
   ],
   "source": [
    "#gcd ofb two numbers\n",
    "num1=int(input(\" Enter the number : \"))\n",
    "num2=int(input(\" Enter the numer : \"))\n",
    "if(num1<num2):\n",
    "    c=num1\n",
    "else:\n",
    "    c=num2\n",
    "while(c>0):\n",
    "    if(num1%c==0)and(num2%c==0):\n",
    "        print(\" GCD of\",num1,\"and\",num2,\"is\",c)\n",
    "        break\n",
    "    c=c-1"
   ]
  },
  {
   "cell_type": "code",
   "execution_count": null,
   "id": "d2f70825",
   "metadata": {},
   "outputs": [],
   "source": []
  }
 ],
 "metadata": {
  "kernelspec": {
   "display_name": "Python 3 (ipykernel)",
   "language": "python",
   "name": "python3"
  },
  "language_info": {
   "codemirror_mode": {
    "name": "ipython",
    "version": 3
   },
   "file_extension": ".py",
   "mimetype": "text/x-python",
   "name": "python",
   "nbconvert_exporter": "python",
   "pygments_lexer": "ipython3",
   "version": "3.10.6"
  }
 },
 "nbformat": 4,
 "nbformat_minor": 5
}
