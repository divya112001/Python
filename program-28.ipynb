{
 "cells": [
  {
   "cell_type": "code",
   "execution_count": 1,
   "metadata": {},
   "outputs": [
    {
     "name": "stdout",
     "output_type": "stream",
     "text": [
      "Enter the 1st number :20\n",
      "Enter the 2nd number :10\n",
      "select the operations\n",
      "1.Add\n",
      "2.Subtract\n",
      "3.Multiply\n",
      "4.Division\n",
      "Enter the choice :1\n",
      "1.Addition :30.00\n"
     ]
    }
   ],
   "source": [
    "num1=float(input(\"Enter the 1st number :\"))\n",
    "num2=float(input(\"Enter the 2nd number :\"))\n",
    "print(\"select the operations\")\n",
    "print(\"1.Add\")\n",
    "print(\"2.Subtract\")\n",
    "print(\"3.Multiply\")\n",
    "print(\"4.Division\")\n",
    "choice=int(input(\"Enter the choice :\"))\n",
    "if(choice==1):\n",
    "    print(\"1.Addition :%.2f\"%(num1+num2))\n",
    "elif(choice==2):\n",
    "      print(\"1.Subtraction :%.2f\"%(num1-num2))\n",
    "elif(choice==3):\n",
    "    print(\"1.Multiplication :%.2f\"%(num1*num2))\n",
    "elif(choice==4):\n",
    "    print(\"1.Division :%.2f\"%(num1/num2))\n",
    "else:\n",
    "    print(\"invalid choice\")\n",
    "    "
   ]
  },
  {
   "cell_type": "code",
   "execution_count": null,
   "metadata": {
    "collapsed": true
   },
   "outputs": [],
   "source": []
  }
 ],
 "metadata": {
  "kernelspec": {
   "display_name": "Python 3",
   "language": "python",
   "name": "python3"
  },
  "language_info": {
   "codemirror_mode": {
    "name": "ipython",
    "version": 3
   },
   "file_extension": ".py",
   "mimetype": "text/x-python",
   "name": "python",
   "nbconvert_exporter": "python",
   "pygments_lexer": "ipython3",
   "version": "3.6.3"
  }
 },
 "nbformat": 4,
 "nbformat_minor": 2
}
